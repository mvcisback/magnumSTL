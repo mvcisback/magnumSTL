{
 "cells": [
  {
   "cell_type": "code",
   "execution_count": 1,
   "metadata": {
    "collapsed": true
   },
   "outputs": [],
   "source": [
    "%matplotlib inline"
   ]
  },
  {
   "cell_type": "code",
   "execution_count": 2,
   "metadata": {},
   "outputs": [],
   "source": [
    "from matplotlib import pyplot as plt\n",
    "\n",
    "from pathlib import Path\n",
    "\n",
    "import magnum\n",
    "from magnum import io\n",
    "from magnum.solvers import smt\n",
    "from magnum.solvers import cegis2"
   ]
  },
  {
   "cell_type": "markdown",
   "metadata": {},
   "source": [
    "# Feasible Example"
   ]
  },
  {
   "cell_type": "code",
   "execution_count": null,
   "metadata": {
    "collapsed": true
   },
   "outputs": [],
   "source": [
    "%run /home/mvc/active/magnumstl/examples/feasible_example.py"
   ]
  },
  {
   "cell_type": "code",
   "execution_count": null,
   "metadata": {},
   "outputs": [],
   "source": [
    "magnum.utils.pretty_print(feasible_example)"
   ]
  },
  {
   "cell_type": "code",
   "execution_count": null,
   "metadata": {
    "collapsed": true
   },
   "outputs": [],
   "source": [
    "solution = smt.encode_and_run(feasible_example)"
   ]
  },
  {
   "cell_type": "code",
   "execution_count": null,
   "metadata": {
    "collapsed": true
   },
   "outputs": [],
   "source": [
    "X = magnum.utils.result_to_traces(solution)"
   ]
  },
  {
   "cell_type": "code",
   "execution_count": null,
   "metadata": {},
   "outputs": [],
   "source": [
    "X.plot()"
   ]
  },
  {
   "cell_type": "code",
   "execution_count": null,
   "metadata": {},
   "outputs": [],
   "source": [
    "X[X.u.isnull()]"
   ]
  },
  {
   "cell_type": "markdown",
   "metadata": {},
   "source": [
    "# Intersection"
   ]
  },
  {
   "cell_type": "code",
   "execution_count": null,
   "metadata": {},
   "outputs": [],
   "source": [
    "%run /home/mvc/active/magnumstl/examples/intersection.py"
   ]
  },
  {
   "cell_type": "code",
   "execution_count": null,
   "metadata": {},
   "outputs": [],
   "source": [
    "intersection"
   ]
  },
  {
   "cell_type": "code",
   "execution_count": null,
   "metadata": {
    "collapsed": true
   },
   "outputs": [],
   "source": [
    "x = cegis2.cegis_loop(intersection)"
   ]
  },
  {
   "cell_type": "code",
   "execution_count": null,
   "metadata": {},
   "outputs": [],
   "source": [
    "next(x)"
   ]
  },
  {
   "cell_type": "code",
   "execution_count": null,
   "metadata": {},
   "outputs": [],
   "source": [
    "x = cegis2.cegis(intersection)"
   ]
  },
  {
   "cell_type": "code",
   "execution_count": null,
   "metadata": {},
   "outputs": [],
   "source": [
    "x[0]"
   ]
  },
  {
   "cell_type": "code",
   "execution_count": null,
   "metadata": {
    "scrolled": true
   },
   "outputs": [],
   "source": [
    "X = magnum.utils.result_to_traces(x[1])\n",
    "X"
   ]
  },
  {
   "cell_type": "code",
   "execution_count": null,
   "metadata": {},
   "outputs": [],
   "source": [
    "X[[\"x\", \"vx\", \"u\"]].plot()"
   ]
  },
  {
   "cell_type": "code",
   "execution_count": null,
   "metadata": {},
   "outputs": [],
   "source": [
    "X[[\"x\", \"y\"]].plot()"
   ]
  },
  {
   "cell_type": "markdown",
   "metadata": {},
   "source": [
    "# Rock, Paper, Scissors"
   ]
  },
  {
   "cell_type": "code",
   "execution_count": 3,
   "metadata": {},
   "outputs": [],
   "source": [
    "%run examples/rock_paper_scissors.py"
   ]
  },
  {
   "cell_type": "code",
   "execution_count": 4,
   "metadata": {},
   "outputs": [
    {
     "data": {
      "text/plain": [
       "□[0,2]((3*u(t) + -1*x(t + 1) = 0) ∧ (3*w(t) + -1*y(t + 1) = 0))"
      ]
     },
     "execution_count": 4,
     "metadata": {},
     "output_type": "execute_result"
    }
   ],
   "source": [
    "magnum.game.matrix_to_dyn_stl(rps)"
   ]
  },
  {
   "cell_type": "code",
   "execution_count": 5,
   "metadata": {},
   "outputs": [
    {
     "data": {
      "text/plain": [
       "¬((1.00000000000000*y(t) >= 1.0) ∧ (1.00000000000000*y(t) < 2.0))"
      ]
     },
     "execution_count": 5,
     "metadata": {},
     "output_type": "execute_result"
    }
   ],
   "source": [
    "rps.spec.obj"
   ]
  },
  {
   "cell_type": "code",
   "execution_count": 10,
   "metadata": {},
   "outputs": [],
   "source": [
    "magnum.utils.result_to_traces(smt.encode_and_run(magnum.game.invert_game(rps)))"
   ]
  },
  {
   "cell_type": "code",
   "execution_count": 7,
   "metadata": {},
   "outputs": [],
   "source": [
    "x = cegis2.cegis_loop(rps)"
   ]
  },
  {
   "cell_type": "code",
   "execution_count": 9,
   "metadata": {},
   "outputs": [
    {
     "name": "stdout",
     "output_type": "stream",
     "text": [
      "> /home/mvc/work/research/py-blustl/magnum/solvers/cegis2.py(88)player()\n",
      "-> learned = response & ~banned_inputs\n",
      "(Pdb) p banned_input\n",
      "*** NameError: name 'banned_input' is not defined\n",
      "(Pdb) p prev_input\n",
      "*** NameError: name 'prev_input' is not defined\n",
      "(Pdb) p prev_inputs\n",
      "[1*w(1.0) = 0, 1*w(2.0) = 0, 1*w(0.0) = 0]\n",
      "(Pdb) p banned_inputs\n",
      "(1*w(1.0) < 0.3333333333333333) ∧ (1*w(1.0) > -0.3333333333333333) ∧ (1*w(2.0) < 0.3333333333333333) ∧ (1*w(2.0) > -0.3333333333333333) ∧ (1*w(0.0) < 0.3333333333333333) ∧ (1*w(0.0) > -0.3333333333333333)\n",
      "(Pdb) c\n"
     ]
    },
    {
     "data": {
      "text/plain": [
       "(<State.U_DOMINANT: 2>,\n",
       " Result(feasible=True, cost=0, solution=defaultdict(<function compose.<locals>.<lambda>.<locals>.<lambda> at 0x7fb87b37e6a8>, {1.0: {u: Fraction(0, 1), w: Fraction(0, 1), x: Fraction(0, 1), y: Fraction(0, 1)}, 2.0: {y: Fraction(0, 1), u: Fraction(0, 1), w: Fraction(0, 1), x: Fraction(0, 1)}, 3.0: {y: Fraction(0, 1), x: Fraction(0, 1)}, 0.0: {w: Fraction(0, 1), u: Fraction(0, 1), y: Fraction(0, 1), x: Fraction(0, 1)}})))"
      ]
     },
     "execution_count": 9,
     "metadata": {},
     "output_type": "execute_result"
    }
   ],
   "source": [
    "next(x)"
   ]
  },
  {
   "cell_type": "code",
   "execution_count": null,
   "metadata": {
    "collapsed": true
   },
   "outputs": [],
   "source": []
  }
 ],
 "metadata": {
  "kernelspec": {
   "display_name": "Python 3",
   "language": "python",
   "name": "python3"
  },
  "language_info": {
   "codemirror_mode": {
    "name": "ipython",
    "version": 3
   },
   "file_extension": ".py",
   "mimetype": "text/x-python",
   "name": "python",
   "nbconvert_exporter": "python",
   "pygments_lexer": "ipython3",
   "version": "3.6.1"
  }
 },
 "nbformat": 4,
 "nbformat_minor": 2
}
