{
 "cells": [
  {
   "cell_type": "code",
   "execution_count": 20,
   "metadata": {
    "collapsed": true
   },
   "outputs": [],
   "source": [
    "%matplotlib inline"
   ]
  },
  {
   "cell_type": "code",
   "execution_count": 21,
   "metadata": {},
   "outputs": [],
   "source": [
    "from matplotlib import pyplot as plt\n",
    "\n",
    "from pathlib import Path\n",
    "\n",
    "import magnum\n",
    "from magnum import io\n",
    "from magnum.solvers import smt\n",
    "from magnum.solvers import cegis2"
   ]
  },
  {
   "cell_type": "markdown",
   "metadata": {},
   "source": [
    "# Feasible Example"
   ]
  },
  {
   "cell_type": "code",
   "execution_count": 3,
   "metadata": {
    "collapsed": true
   },
   "outputs": [],
   "source": [
    "%run /home/mvc/active/magnumstl/examples/feasible_example.py"
   ]
  },
  {
   "cell_type": "code",
   "execution_count": 4,
   "metadata": {},
   "outputs": [
    {
     "name": "stdout",
     "output_type": "stream",
     "text": [
      "\n",
      "Specification\n",
      "=============\n",
      "spec: ◇[0.0,2.0](1.00000000000000*x(t) > 5.0)\n",
      "init: 1.00000000000000*x(t) = 0.0\n",
      "bounds: □[0,2]((1*u(t) <= 1.0) ∧ (1*u(t) >= 0.0))\n",
      "learned: ⊤\n",
      "\n",
      "MODEL\n",
      "=====\n",
      "    dt: 0.01, H: 2 t: 0\n",
      "\n",
      "    A: [[0]]\n",
      "    B: [[10]]\n",
      "    C: []\n",
      "\n",
      "States:\n",
      "------\n",
      "(x,)\n",
      "\n",
      "Inputs:\n",
      "------\n",
      "(u,)\n",
      "\n",
      "Environment Inputs:\n",
      "------------------\n",
      "()\n",
      "\n",
      "\n",
      "Meta:\n",
      "    drdu: None, drdw: None\n",
      "\n"
     ]
    }
   ],
   "source": [
    "magnum.utils.pretty_print(feasible_example)"
   ]
  },
  {
   "cell_type": "code",
   "execution_count": 5,
   "metadata": {
    "collapsed": true
   },
   "outputs": [],
   "source": [
    "solution = smt.encode_and_run(feasible_example)"
   ]
  },
  {
   "cell_type": "code",
   "execution_count": 6,
   "metadata": {
    "collapsed": true
   },
   "outputs": [],
   "source": [
    "X = magnum.utils.result_to_traces(solution)"
   ]
  },
  {
   "cell_type": "code",
   "execution_count": 7,
   "metadata": {},
   "outputs": [
    {
     "data": {
      "text/plain": [
       "<matplotlib.axes._subplots.AxesSubplot at 0x7f5956086128>"
      ]
     },
     "execution_count": 7,
     "metadata": {},
     "output_type": "execute_result"
    },
    {
     "data": {
      "image/png": "[encoded data removed]",
      "text/plain": [
       "<matplotlib.figure.Figure at 0x7f5954ada978>"
      ]
     },
     "metadata": {},
     "output_type": "display_data"
    }
   ],
   "source": [
    "X.plot()"
   ]
  },
  {
   "cell_type": "code",
   "execution_count": 8,
   "metadata": {},
   "outputs": [
    {
     "data": {
      "text/html": [
       "<div>\n",
       "<table border=\"1\" class=\"dataframe\">\n",
       "  <thead>\n",
       "    <tr style=\"text-align: right;\">\n",
       "      <th></th>\n",
       "      <th>u</th>\n",
       "      <th>x</th>\n",
       "    </tr>\n",
       "  </thead>\n",
       "  <tbody>\n",
       "    <tr>\n",
       "      <th>2.0</th>\n",
       "      <td>NaN</td>\n",
       "      <td>5.0</td>\n",
       "    </tr>\n",
       "  </tbody>\n",
       "</table>\n",
       "</div>"
      ],
      "text/plain": [
       "      u    x\n",
       "2.0 NaN  5.0"
      ]
     },
     "execution_count": 8,
     "metadata": {},
     "output_type": "execute_result"
    }
   ],
   "source": [
    "X[X.u.isnull()]"
   ]
  },
  {
   "cell_type": "markdown",
   "metadata": {},
   "source": [
    "# Intersection"
   ]
  },
  {
   "cell_type": "code",
   "execution_count": 9,
   "metadata": {},
   "outputs": [
    {
     "data": {
      "text/plain": [
       "<matplotlib.figure.Figure at 0x7f598c16f630>"
      ]
     },
     "metadata": {},
     "output_type": "display_data"
    }
   ],
   "source": [
    "%run /home/mvc/active/magnumstl/examples/intersection.py"
   ]
  },
  {
   "cell_type": "code",
   "execution_count": 10,
   "metadata": {},
   "outputs": [
    {
     "data": {
      "text/plain": [
       "Game(spec=Specs(obj=(¬(□[0.0,4.0](1.00000000000000*vy(t) <= 10.1))) ∨ ((◇[0.0,4.0](1.00000000000000*x(t) > 5.0)) ∧ (□[0.0,4.0](¬((1.00000000000000*x(t) > 0.0) ∧ (1.00000000000000*x(t) < 5.0) ∧ (1.00000000000000*y(t) > 0.0) ∧ (1.00000000000000*y(t) < 5.0))))), init=(1.00000000000000*x(t) = -5.0) ∧ (1.00000000000000*vx(t) = 0.0) ∧ (1.00000000000000*y(t) = -5.0) ∧ (1.00000000000000*vy(t) = 0.0), learned=⊤, bounds=□[0.0,4.0]((1.00000000000000*u(t) >= 0.0) ∧ (1.00000000000000*u(t) <= 1.0) ∧ (1.00000000000000*w(t) >= 0.0) ∧ (1.00000000000000*w(t) <= 1.0))), model=Model(dt=0.1, H=4, vars=Vars(state=(x, vx, y, vy), input=(u,), env=(w,)), t=0, dyn=Dynamics(A=array([[0, 1, 0, 0],\n",
       "       [0, 0, 0, 0],\n",
       "       [0, 0, 0, 1],\n",
       "       [0, 0, 0, 0]]), B=array([[ 0],\n",
       "       [10],\n",
       "       [ 0],\n",
       "       [ 0]]), C=array([[ 0],\n",
       "       [ 0],\n",
       "       [ 0],\n",
       "       [10]]))), meta=Meta(pri={}, names={}, drdu=78.125592000412638, drdw=78.125592000412638))"
      ]
     },
     "execution_count": 10,
     "metadata": {},
     "output_type": "execute_result"
    }
   ],
   "source": [
    "intersection"
   ]
  },
  {
   "cell_type": "code",
   "execution_count": 11,
   "metadata": {
    "collapsed": true
   },
   "outputs": [],
   "source": [
    "x = cegis2.cegis_loop(intersection)"
   ]
  },
  {
   "cell_type": "code",
   "execution_count": 12,
   "metadata": {},
   "outputs": [],
   "source": [
    "p, solution = next(x)"
   ]
  },
  {
   "cell_type": "code",
   "execution_count": 14,
   "metadata": {
    "scrolled": true
   },
   "outputs": [
    {
     "data": {
      "text/html": [
       "<div>\n",
       "<table border=\"1\" class=\"dataframe\">\n",
       "  <thead>\n",
       "    <tr style=\"text-align: right;\">\n",
       "      <th></th>\n",
       "      <th>u</th>\n",
       "      <th>vx</th>\n",
       "      <th>vy</th>\n",
       "      <th>w</th>\n",
       "      <th>x</th>\n",
       "      <th>y</th>\n",
       "    </tr>\n",
       "  </thead>\n",
       "  <tbody>\n",
       "    <tr>\n",
       "      <th>0.0</th>\n",
       "      <td>1.000000</td>\n",
       "      <td>0.000000</td>\n",
       "      <td>0.000000</td>\n",
       "      <td>1.000000</td>\n",
       "      <td>-5.000000</td>\n",
       "      <td>-5.000000</td>\n",
       "    </tr>\n",
       "    <tr>\n",
       "      <th>0.1</th>\n",
       "      <td>1.000000</td>\n",
       "      <td>1.000000</td>\n",
       "      <td>1.000000</td>\n",
       "      <td>1.000000</td>\n",
       "      <td>-5.000000</td>\n",
       "      <td>-5.000000</td>\n",
       "    </tr>\n",
       "    <tr>\n",
       "      <th>0.2</th>\n",
       "      <td>1.000000</td>\n",
       "      <td>2.000000</td>\n",
       "      <td>2.000000</td>\n",
       "      <td>0.680556</td>\n",
       "      <td>-4.900000</td>\n",
       "      <td>-4.900000</td>\n",
       "    </tr>\n",
       "    <tr>\n",
       "      <th>0.3</th>\n",
       "      <td>1.000000</td>\n",
       "      <td>2.680556</td>\n",
       "      <td>3.000000</td>\n",
       "      <td>0.000000</td>\n",
       "      <td>-4.700000</td>\n",
       "      <td>-4.700000</td>\n",
       "    </tr>\n",
       "    <tr>\n",
       "      <th>0.4</th>\n",
       "      <td>1.000000</td>\n",
       "      <td>2.680556</td>\n",
       "      <td>4.000000</td>\n",
       "      <td>0.000000</td>\n",
       "      <td>-4.431944</td>\n",
       "      <td>-4.400000</td>\n",
       "    </tr>\n",
       "    <tr>\n",
       "      <th>0.5</th>\n",
       "      <td>0.916667</td>\n",
       "      <td>2.680556</td>\n",
       "      <td>5.000000</td>\n",
       "      <td>0.000000</td>\n",
       "      <td>-4.163889</td>\n",
       "      <td>-4.000000</td>\n",
       "    </tr>\n",
       "    <tr>\n",
       "      <th>0.6</th>\n",
       "      <td>0.000000</td>\n",
       "      <td>2.680556</td>\n",
       "      <td>5.916667</td>\n",
       "      <td>0.000000</td>\n",
       "      <td>-3.895833</td>\n",
       "      <td>-3.500000</td>\n",
       "    </tr>\n",
       "    <tr>\n",
       "      <th>0.7</th>\n",
       "      <td>0.000000</td>\n",
       "      <td>2.680556</td>\n",
       "      <td>5.916667</td>\n",
       "      <td>0.000000</td>\n",
       "      <td>-3.627778</td>\n",
       "      <td>-2.908333</td>\n",
       "    </tr>\n",
       "    <tr>\n",
       "      <th>0.8</th>\n",
       "      <td>0.000000</td>\n",
       "      <td>2.680556</td>\n",
       "      <td>5.916667</td>\n",
       "      <td>0.000000</td>\n",
       "      <td>-3.359722</td>\n",
       "      <td>-2.316667</td>\n",
       "    </tr>\n",
       "    <tr>\n",
       "      <th>0.9</th>\n",
       "      <td>0.000000</td>\n",
       "      <td>2.680556</td>\n",
       "      <td>5.916667</td>\n",
       "      <td>0.000000</td>\n",
       "      <td>-3.091667</td>\n",
       "      <td>-1.725000</td>\n",
       "    </tr>\n",
       "    <tr>\n",
       "      <th>1.0</th>\n",
       "      <td>0.000000</td>\n",
       "      <td>2.680556</td>\n",
       "      <td>5.916667</td>\n",
       "      <td>0.000000</td>\n",
       "      <td>-2.823611</td>\n",
       "      <td>-1.133333</td>\n",
       "    </tr>\n",
       "    <tr>\n",
       "      <th>1.1</th>\n",
       "      <td>0.000000</td>\n",
       "      <td>2.680556</td>\n",
       "      <td>5.916667</td>\n",
       "      <td>0.000000</td>\n",
       "      <td>-2.555556</td>\n",
       "      <td>-0.541667</td>\n",
       "    </tr>\n",
       "    <tr>\n",
       "      <th>1.2</th>\n",
       "      <td>0.000000</td>\n",
       "      <td>2.680556</td>\n",
       "      <td>5.916667</td>\n",
       "      <td>0.000000</td>\n",
       "      <td>-2.287500</td>\n",
       "      <td>0.050000</td>\n",
       "    </tr>\n",
       "    <tr>\n",
       "      <th>1.3</th>\n",
       "      <td>0.000000</td>\n",
       "      <td>2.680556</td>\n",
       "      <td>5.916667</td>\n",
       "      <td>0.000000</td>\n",
       "      <td>-2.019444</td>\n",
       "      <td>0.641667</td>\n",
       "    </tr>\n",
       "    <tr>\n",
       "      <th>1.4</th>\n",
       "      <td>0.000000</td>\n",
       "      <td>2.680556</td>\n",
       "      <td>5.916667</td>\n",
       "      <td>0.000000</td>\n",
       "      <td>-1.751389</td>\n",
       "      <td>1.233333</td>\n",
       "    </tr>\n",
       "    <tr>\n",
       "      <th>1.5</th>\n",
       "      <td>0.000000</td>\n",
       "      <td>2.680556</td>\n",
       "      <td>5.916667</td>\n",
       "      <td>0.000000</td>\n",
       "      <td>-1.483333</td>\n",
       "      <td>1.825000</td>\n",
       "    </tr>\n",
       "    <tr>\n",
       "      <th>1.6</th>\n",
       "      <td>0.000000</td>\n",
       "      <td>2.680556</td>\n",
       "      <td>5.916667</td>\n",
       "      <td>0.000000</td>\n",
       "      <td>-1.215278</td>\n",
       "      <td>2.416667</td>\n",
       "    </tr>\n",
       "    <tr>\n",
       "      <th>1.7</th>\n",
       "      <td>0.000000</td>\n",
       "      <td>2.680556</td>\n",
       "      <td>5.916667</td>\n",
       "      <td>0.000000</td>\n",
       "      <td>-0.947222</td>\n",
       "      <td>3.008333</td>\n",
       "    </tr>\n",
       "    <tr>\n",
       "      <th>1.8</th>\n",
       "      <td>0.000000</td>\n",
       "      <td>2.680556</td>\n",
       "      <td>5.916667</td>\n",
       "      <td>0.000000</td>\n",
       "      <td>-0.679167</td>\n",
       "      <td>3.600000</td>\n",
       "    </tr>\n",
       "    <tr>\n",
       "      <th>1.9</th>\n",
       "      <td>0.000000</td>\n",
       "      <td>2.680556</td>\n",
       "      <td>5.916667</td>\n",
       "      <td>0.000000</td>\n",
       "      <td>-0.411111</td>\n",
       "      <td>4.191667</td>\n",
       "    </tr>\n",
       "    <tr>\n",
       "      <th>2.0</th>\n",
       "      <td>0.000000</td>\n",
       "      <td>2.680556</td>\n",
       "      <td>5.916667</td>\n",
       "      <td>0.000000</td>\n",
       "      <td>-0.143056</td>\n",
       "      <td>4.783333</td>\n",
       "    </tr>\n",
       "    <tr>\n",
       "      <th>2.1</th>\n",
       "      <td>0.000000</td>\n",
       "      <td>2.680556</td>\n",
       "      <td>5.916667</td>\n",
       "      <td>0.000000</td>\n",
       "      <td>0.125000</td>\n",
       "      <td>5.375000</td>\n",
       "    </tr>\n",
       "    <tr>\n",
       "      <th>2.2</th>\n",
       "      <td>0.000000</td>\n",
       "      <td>2.680556</td>\n",
       "      <td>5.916667</td>\n",
       "      <td>0.000000</td>\n",
       "      <td>0.393056</td>\n",
       "      <td>5.966667</td>\n",
       "    </tr>\n",
       "    <tr>\n",
       "      <th>2.3</th>\n",
       "      <td>0.000000</td>\n",
       "      <td>2.680556</td>\n",
       "      <td>5.916667</td>\n",
       "      <td>0.000000</td>\n",
       "      <td>0.661111</td>\n",
       "      <td>6.558333</td>\n",
       "    </tr>\n",
       "    <tr>\n",
       "      <th>2.4</th>\n",
       "      <td>0.000000</td>\n",
       "      <td>2.680556</td>\n",
       "      <td>5.916667</td>\n",
       "      <td>0.000000</td>\n",
       "      <td>0.929167</td>\n",
       "      <td>7.150000</td>\n",
       "    </tr>\n",
       "    <tr>\n",
       "      <th>2.5</th>\n",
       "      <td>0.183333</td>\n",
       "      <td>2.680556</td>\n",
       "      <td>5.916667</td>\n",
       "      <td>0.000000</td>\n",
       "      <td>1.197222</td>\n",
       "      <td>7.741667</td>\n",
       "    </tr>\n",
       "    <tr>\n",
       "      <th>2.6</th>\n",
       "      <td>1.000000</td>\n",
       "      <td>2.680556</td>\n",
       "      <td>6.100000</td>\n",
       "      <td>0.000000</td>\n",
       "      <td>1.465278</td>\n",
       "      <td>8.333333</td>\n",
       "    </tr>\n",
       "    <tr>\n",
       "      <th>2.7</th>\n",
       "      <td>1.000000</td>\n",
       "      <td>2.680556</td>\n",
       "      <td>7.100000</td>\n",
       "      <td>0.000000</td>\n",
       "      <td>1.733333</td>\n",
       "      <td>8.943333</td>\n",
       "    </tr>\n",
       "    <tr>\n",
       "      <th>2.8</th>\n",
       "      <td>1.000000</td>\n",
       "      <td>2.680556</td>\n",
       "      <td>8.100000</td>\n",
       "      <td>0.000000</td>\n",
       "      <td>2.001389</td>\n",
       "      <td>9.653333</td>\n",
       "    </tr>\n",
       "    <tr>\n",
       "      <th>2.9</th>\n",
       "      <td>1.000000</td>\n",
       "      <td>2.680556</td>\n",
       "      <td>9.100000</td>\n",
       "      <td>0.000000</td>\n",
       "      <td>2.269444</td>\n",
       "      <td>10.463333</td>\n",
       "    </tr>\n",
       "    <tr>\n",
       "      <th>3.0</th>\n",
       "      <td>0.000000</td>\n",
       "      <td>2.680556</td>\n",
       "      <td>10.100000</td>\n",
       "      <td>0.000000</td>\n",
       "      <td>2.537500</td>\n",
       "      <td>11.373333</td>\n",
       "    </tr>\n",
       "    <tr>\n",
       "      <th>3.1</th>\n",
       "      <td>0.000000</td>\n",
       "      <td>2.680556</td>\n",
       "      <td>10.100000</td>\n",
       "      <td>0.000000</td>\n",
       "      <td>2.805556</td>\n",
       "      <td>12.383333</td>\n",
       "    </tr>\n",
       "    <tr>\n",
       "      <th>3.2</th>\n",
       "      <td>0.000000</td>\n",
       "      <td>2.680556</td>\n",
       "      <td>10.100000</td>\n",
       "      <td>0.000000</td>\n",
       "      <td>3.073611</td>\n",
       "      <td>13.393333</td>\n",
       "    </tr>\n",
       "    <tr>\n",
       "      <th>3.3</th>\n",
       "      <td>0.000000</td>\n",
       "      <td>2.680556</td>\n",
       "      <td>10.100000</td>\n",
       "      <td>0.000000</td>\n",
       "      <td>3.341667</td>\n",
       "      <td>14.403333</td>\n",
       "    </tr>\n",
       "    <tr>\n",
       "      <th>3.4</th>\n",
       "      <td>0.000000</td>\n",
       "      <td>2.680556</td>\n",
       "      <td>10.100000</td>\n",
       "      <td>0.000000</td>\n",
       "      <td>3.609722</td>\n",
       "      <td>15.413333</td>\n",
       "    </tr>\n",
       "    <tr>\n",
       "      <th>3.5</th>\n",
       "      <td>0.000000</td>\n",
       "      <td>2.680556</td>\n",
       "      <td>10.100000</td>\n",
       "      <td>0.000000</td>\n",
       "      <td>3.877778</td>\n",
       "      <td>16.423333</td>\n",
       "    </tr>\n",
       "    <tr>\n",
       "      <th>3.6</th>\n",
       "      <td>0.000000</td>\n",
       "      <td>2.680556</td>\n",
       "      <td>10.100000</td>\n",
       "      <td>0.000000</td>\n",
       "      <td>4.145833</td>\n",
       "      <td>17.433333</td>\n",
       "    </tr>\n",
       "    <tr>\n",
       "      <th>3.7</th>\n",
       "      <td>0.000000</td>\n",
       "      <td>2.680556</td>\n",
       "      <td>10.100000</td>\n",
       "      <td>0.000000</td>\n",
       "      <td>4.413889</td>\n",
       "      <td>18.443333</td>\n",
       "    </tr>\n",
       "    <tr>\n",
       "      <th>3.8</th>\n",
       "      <td>0.000000</td>\n",
       "      <td>2.680556</td>\n",
       "      <td>10.100000</td>\n",
       "      <td>0.000000</td>\n",
       "      <td>4.681944</td>\n",
       "      <td>19.453333</td>\n",
       "    </tr>\n",
       "    <tr>\n",
       "      <th>3.9</th>\n",
       "      <td>0.000000</td>\n",
       "      <td>2.680556</td>\n",
       "      <td>10.100000</td>\n",
       "      <td>0.000000</td>\n",
       "      <td>4.950000</td>\n",
       "      <td>20.463333</td>\n",
       "    </tr>\n",
       "    <tr>\n",
       "      <th>4.0</th>\n",
       "      <td>NaN</td>\n",
       "      <td>2.680556</td>\n",
       "      <td>10.100000</td>\n",
       "      <td>NaN</td>\n",
       "      <td>5.218056</td>\n",
       "      <td>21.473333</td>\n",
       "    </tr>\n",
       "  </tbody>\n",
       "</table>\n",
       "</div>"
      ],
      "text/plain": [
       "            u        vx         vy         w         x          y\n",
       "0.0  1.000000  0.000000   0.000000  1.000000 -5.000000  -5.000000\n",
       "0.1  1.000000  1.000000   1.000000  1.000000 -5.000000  -5.000000\n",
       "0.2  1.000000  2.000000   2.000000  0.680556 -4.900000  -4.900000\n",
       "0.3  1.000000  2.680556   3.000000  0.000000 -4.700000  -4.700000\n",
       "0.4  1.000000  2.680556   4.000000  0.000000 -4.431944  -4.400000\n",
       "0.5  0.916667  2.680556   5.000000  0.000000 -4.163889  -4.000000\n",
       "0.6  0.000000  2.680556   5.916667  0.000000 -3.895833  -3.500000\n",
       "0.7  0.000000  2.680556   5.916667  0.000000 -3.627778  -2.908333\n",
       "0.8  0.000000  2.680556   5.916667  0.000000 -3.359722  -2.316667\n",
       "0.9  0.000000  2.680556   5.916667  0.000000 -3.091667  -1.725000\n",
       "1.0  0.000000  2.680556   5.916667  0.000000 -2.823611  -1.133333\n",
       "1.1  0.000000  2.680556   5.916667  0.000000 -2.555556  -0.541667\n",
       "1.2  0.000000  2.680556   5.916667  0.000000 -2.287500   0.050000\n",
       "1.3  0.000000  2.680556   5.916667  0.000000 -2.019444   0.641667\n",
       "1.4  0.000000  2.680556   5.916667  0.000000 -1.751389   1.233333\n",
       "1.5  0.000000  2.680556   5.916667  0.000000 -1.483333   1.825000\n",
       "1.6  0.000000  2.680556   5.916667  0.000000 -1.215278   2.416667\n",
       "1.7  0.000000  2.680556   5.916667  0.000000 -0.947222   3.008333\n",
       "1.8  0.000000  2.680556   5.916667  0.000000 -0.679167   3.600000\n",
       "1.9  0.000000  2.680556   5.916667  0.000000 -0.411111   4.191667\n",
       "2.0  0.000000  2.680556   5.916667  0.000000 -0.143056   4.783333\n",
       "2.1  0.000000  2.680556   5.916667  0.000000  0.125000   5.375000\n",
       "2.2  0.000000  2.680556   5.916667  0.000000  0.393056   5.966667\n",
       "2.3  0.000000  2.680556   5.916667  0.000000  0.661111   6.558333\n",
       "2.4  0.000000  2.680556   5.916667  0.000000  0.929167   7.150000\n",
       "2.5  0.183333  2.680556   5.916667  0.000000  1.197222   7.741667\n",
       "2.6  1.000000  2.680556   6.100000  0.000000  1.465278   8.333333\n",
       "2.7  1.000000  2.680556   7.100000  0.000000  1.733333   8.943333\n",
       "2.8  1.000000  2.680556   8.100000  0.000000  2.001389   9.653333\n",
       "2.9  1.000000  2.680556   9.100000  0.000000  2.269444  10.463333\n",
       "3.0  0.000000  2.680556  10.100000  0.000000  2.537500  11.373333\n",
       "3.1  0.000000  2.680556  10.100000  0.000000  2.805556  12.383333\n",
       "3.2  0.000000  2.680556  10.100000  0.000000  3.073611  13.393333\n",
       "3.3  0.000000  2.680556  10.100000  0.000000  3.341667  14.403333\n",
       "3.4  0.000000  2.680556  10.100000  0.000000  3.609722  15.413333\n",
       "3.5  0.000000  2.680556  10.100000  0.000000  3.877778  16.423333\n",
       "3.6  0.000000  2.680556  10.100000  0.000000  4.145833  17.433333\n",
       "3.7  0.000000  2.680556  10.100000  0.000000  4.413889  18.443333\n",
       "3.8  0.000000  2.680556  10.100000  0.000000  4.681944  19.453333\n",
       "3.9  0.000000  2.680556  10.100000  0.000000  4.950000  20.463333\n",
       "4.0       NaN  2.680556  10.100000       NaN  5.218056  21.473333"
      ]
     },
     "execution_count": 14,
     "metadata": {},
     "output_type": "execute_result"
    }
   ],
   "source": [
    "X = magnum.utils.result_to_traces(solution)\n",
    "X"
   ]
  },
  {
   "cell_type": "code",
   "execution_count": 15,
   "metadata": {},
   "outputs": [
    {
     "data": {
      "text/plain": [
       "<matplotlib.axes._subplots.AxesSubplot at 0x7f59528c9be0>"
      ]
     },
     "execution_count": 15,
     "metadata": {},
     "output_type": "execute_result"
    },
    {
     "data": {
      "image/png": "[encoded data removed]",
      "text/plain": [
       "<matplotlib.figure.Figure at 0x7f59529abd68>"
      ]
     },
     "metadata": {},
     "output_type": "display_data"
    }
   ],
   "source": [
    "X[[\"x\", \"vx\", \"u\"]].plot()"
   ]
  },
  {
   "cell_type": "code",
   "execution_count": 16,
   "metadata": {},
   "outputs": [
    {
     "data": {
      "text/plain": [
       "<matplotlib.axes._subplots.AxesSubplot at 0x7f5954c074a8>"
      ]
     },
     "execution_count": 16,
     "metadata": {},
     "output_type": "execute_result"
    },
    {
     "data": {
      "image/png": "[encoded data removed]",
      "text/plain": [
       "<matplotlib.figure.Figure at 0x7f5954b845c0>"
      ]
     },
     "metadata": {},
     "output_type": "display_data"
    }
   ],
   "source": [
    "X[[\"x\", \"y\"]].plot()"
   ]
  },
  {
   "cell_type": "code",
   "execution_count": 17,
   "metadata": {
    "collapsed": true
   },
   "outputs": [],
   "source": [
    "A, B, C = intersection.model.dyn\n",
    "A = np.eye(A.shape[0]) + A\n",
    "L_u = magnum.utils.dynamics_lipschitz(A, B, intersection.model.H)\n",
    "L_w = magnum.utils.dynamics_lipschitz(A, C, intersection.model.H)\n",
    "L_x = stl.utils.linear_stl_lipschitz(intersection.spec.obj)"
   ]
  },
  {
   "cell_type": "code",
   "execution_count": 18,
   "metadata": {},
   "outputs": [
    {
     "data": {
      "text/plain": [
       "1.0"
      ]
     },
     "execution_count": 18,
     "metadata": {},
     "output_type": "execute_result"
    }
   ],
   "source": [
    "L_x"
   ]
  },
  {
   "cell_type": "code",
   "execution_count": null,
   "metadata": {},
   "outputs": [],
   "source": []
  },
  {
   "cell_type": "code",
   "execution_count": 19,
   "metadata": {},
   "outputs": [
    {
     "data": {
      "text/plain": [
       "(78.125592000412638, 78.125592000412638)"
      ]
     },
     "execution_count": 19,
     "metadata": {},
     "output_type": "execute_result"
    }
   ],
   "source": [
    "L_u, L_w"
   ]
  },
  {
   "cell_type": "code",
   "execution_count": null,
   "metadata": {
    "collapsed": true
   },
   "outputs": [],
   "source": []
  }
 ],
 "metadata": {
  "kernelspec": {
   "display_name": "Python 3",
   "language": "python",
   "name": "python3"
  },
  "language_info": {
   "codemirror_mode": {
    "name": "ipython",
    "version": 3
   },
   "file_extension": ".py",
   "mimetype": "text/x-python",
   "name": "python",
   "nbconvert_exporter": "python",
   "pygments_lexer": "ipython3",
   "version": "3.6.1"
  }
 },
 "nbformat": 4,
 "nbformat_minor": 2
}
